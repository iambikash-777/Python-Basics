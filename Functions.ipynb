{
 "cells": [
  {
   "cell_type": "code",
   "execution_count": 2,
   "metadata": {},
   "outputs": [
    {
     "name": "stdout",
     "output_type": "stream",
     "text": [
      "Hello from a function\n"
     ]
    }
   ],
   "source": [
    "#functions\n",
    "def my_function():\n",
    "  print(\"Hello from a function\")\n",
    "\n",
    "my_function()"
   ]
  },
  {
   "cell_type": "code",
   "execution_count": 21,
   "metadata": {},
   "outputs": [
    {
     "name": "stdout",
     "output_type": "stream",
     "text": [
      "Counter({(1, 2, 3, 4): 1})\n"
     ]
    }
   ],
   "source": [
    "from collections import Counter\n",
    "def add(*a):\n",
    "   s=Counter(a)\n",
    "   return s \n",
    "t=1,2,3,4\n",
    "b=add(t)\n",
    "print(b)"
   ]
  },
  {
   "cell_type": "code",
   "execution_count": 25,
   "metadata": {},
   "outputs": [
    {
     "name": "stdout",
     "output_type": "stream",
     "text": [
      "(4.0, 3.0, (3-4j))\n"
     ]
    }
   ],
   "source": [
    "#Can return Multiple Values \n",
    "def calC(values):\n",
    "    return values.imag,values.real,values.conjugate()\n",
    "\n",
    "t=calC(3+4j)\n",
    "print(t)\n"
   ]
  },
  {
   "cell_type": "code",
   "execution_count": 27,
   "metadata": {},
   "outputs": [
    {
     "name": "stdout",
     "output_type": "stream",
     "text": [
      "3\n"
     ]
    }
   ],
   "source": [
    "#Default Arguments\n",
    "def defaultargs(a=2,b=3):\n",
    "    return a+b\n",
    "s=defaultargs(1,2)\n",
    "print(s)"
   ]
  },
  {
   "cell_type": "code",
   "execution_count": 35,
   "metadata": {},
   "outputs": [
    {
     "name": "stdout",
     "output_type": "stream",
     "text": [
      "(1, 2, 3, 4, 4, 5, 6, 7, [1, 2, 3, 4], {'3', '2', '1'}, {'1': 1}, 'a')\n",
      "{'keyword': 2}\n"
     ]
    }
   ],
   "source": [
    "# *ARGS AND **KWARGS\n",
    "#Function with unknown no of arguments\n",
    "def catch(*args,**kwargs):\n",
    "    print(args)\n",
    "    print(kwargs)\n",
    "catch(1,2,3,4,4,5,6,7,[1,2,3,4],{'1','2','3'},{'1':1},'a',keyword=2)"
   ]
  }
 ],
 "metadata": {
  "kernelspec": {
   "display_name": "Python 3",
   "language": "python",
   "name": "python3"
  },
  "language_info": {
   "codemirror_mode": {
    "name": "ipython",
    "version": 3
   },
   "file_extension": ".py",
   "mimetype": "text/x-python",
   "name": "python",
   "nbconvert_exporter": "python",
   "pygments_lexer": "ipython3",
   "version": "3.10.5"
  },
  "orig_nbformat": 4
 },
 "nbformat": 4,
 "nbformat_minor": 2
}
