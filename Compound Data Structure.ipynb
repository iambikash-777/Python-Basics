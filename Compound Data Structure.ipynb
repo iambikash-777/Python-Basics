{
 "cells": [
  {
   "cell_type": "code",
   "execution_count": null,
   "metadata": {},
   "outputs": [],
   "source": [
    "#4 Compound Types [List ] (Tuple ) {Dictionary} {SET}\n",
    "\n",
    "#list [1,2,3] - Ordered Collection \n",
    "#tuple(1,2,3)- Immutable Ordered Collection Mutable objects are those that allow you to change their value or data in place without affecting the object's identity. In contrast, immutable objects don't allow this kind of operation\n",
    "#dict{'a':1,'b':2,'c':3} - unordered keyvalue pair\n",
    "#set{1,2,3}- unordered collection of unique values"
   ]
  },
  {
   "cell_type": "code",
   "execution_count": 3,
   "metadata": {},
   "outputs": [
    {
     "name": "stdout",
     "output_type": "stream",
     "text": [
      "[2, 3, 4, 5] ['Ram', 'Shyam', 'Hari']\n"
     ]
    }
   ],
   "source": [
    "#LIST \n",
    "# multiple items in a single variable\n",
    "l=[2,3,4,5]\n",
    "thisList=[\"Ram\",\"Shyam\",\"Hari\"]\n",
    "print(l,thisList)"
   ]
  },
  {
   "cell_type": "code",
   "execution_count": 26,
   "metadata": {},
   "outputs": [
    {
     "name": "stdout",
     "output_type": "stream",
     "text": [
      "[5, 4, 3, 2, 1]\n",
      "['Ram', 51, 'M', [5, 4, 3, 2, 1], 'Ram']\n",
      "[1, 2, 3, 4, 5]\n",
      "4\n",
      "[3, 4, 5]\n",
      "[1, 2, 3]\n",
      "[1, 3, 5]\n",
      "[3, 4, 5]\n",
      "[5, 4, 3, 2, 1]\n"
     ]
    }
   ],
   "source": [
    "# List items are ordered, changeable, and allow duplicate values.\n",
    "# List items are indexed, the first item has index [0], \n",
    "# the second item has index [1]\n",
    "''' items have a defined order, and that order will not change.\n",
    "If you add new items to a list, the new items will be placed at\n",
    "the end of the list. '''\n",
    "len(l)\n",
    "len(thisList)\n",
    "l=[\"Ram\",51,'M',[5,4,3,2,1]]\n",
    "print(l[3])\n",
    "l.append(\"Ram\") #allow Duplicates\n",
    "print(l)\n",
    "# print(l.sort())\n",
    "a=[1,2,3,4,5]\n",
    "a+[1,2,3]\n",
    "print(a)\n",
    "#INDEXING AND SLICING\n",
    "print(a[-2])\n",
    "\n",
    "print(a[2:5]) #The search will start at index 2 (included) and end at index 5 (not included).\n",
    "# By leaving out the start value, the range will start at the first item:\n",
    "print(a[:3])\n",
    "print(a[::2])\n",
    "print(a[-3:])\n",
    "print(a[::-1]) #reverses the list"
   ]
  },
  {
   "cell_type": "code",
   "execution_count": 1,
   "metadata": {},
   "outputs": [
    {
     "name": "stdout",
     "output_type": "stream",
     "text": [
      "(1, 2, 3)\n"
     ]
    }
   ],
   "source": [
    "#Tuples \n",
    "#Immutable Data Structure\n",
    "#Used in functions returning multiple values \n",
    "\n",
    "t=(1,2,3)\n",
    "print(t)"
   ]
  },
  {
   "cell_type": "code",
   "execution_count": 2,
   "metadata": {},
   "outputs": [
    {
     "name": "stdout",
     "output_type": "stream",
     "text": [
      "(1, 2, 3)\n"
     ]
    }
   ],
   "source": [
    "#TUPLES\n",
    "t=1,2,3\n",
    "print(t)"
   ]
  },
  {
   "cell_type": "code",
   "execution_count": 3,
   "metadata": {},
   "outputs": [
    {
     "name": "stdout",
     "output_type": "stream",
     "text": [
      "4\n"
     ]
    }
   ],
   "source": [
    "t=1,2,3,4 \n",
    "a=len(t)\n",
    "print(a)"
   ]
  },
  {
   "cell_type": "code",
   "execution_count": 4,
   "metadata": {},
   "outputs": [
    {
     "name": "stdout",
     "output_type": "stream",
     "text": [
      "(1, 2, 'ram', 'shyam')\n"
     ]
    }
   ],
   "source": [
    "t=1,2,\"ram\",\"shyam\"\n",
    "print(t)"
   ]
  },
  {
   "cell_type": "code",
   "execution_count": 5,
   "metadata": {},
   "outputs": [
    {
     "name": "stdout",
     "output_type": "stream",
     "text": [
      "(5, 6, 7, 8, 1, 2, 3, 4)\n"
     ]
    }
   ],
   "source": [
    "t=1,2,3,4 \n",
    "a=5,6,7,8\n",
    "z=a+t\n",
    "print(z)"
   ]
  },
  {
   "cell_type": "code",
   "execution_count": 6,
   "metadata": {},
   "outputs": [
    {
     "ename": "TypeError",
     "evalue": "'tuple' object does not support item assignment",
     "output_type": "error",
     "traceback": [
      "\u001b[0;31m---------------------------------------------------------------------------\u001b[0m",
      "\u001b[0;31mTypeError\u001b[0m                                 Traceback (most recent call last)",
      "\u001b[1;32m/Users/bikashacharya/Desktop/Python Basics/Compound Data Structure.ipynb Cell 9\u001b[0m line \u001b[0;36m2\n\u001b[1;32m      <a href='vscode-notebook-cell:/Users/bikashacharya/Desktop/Python%20Basics/Compound%20Data%20Structure.ipynb#X11sZmlsZQ%3D%3D?line=0'>1</a>\u001b[0m t\u001b[39m=\u001b[39m\u001b[39m1\u001b[39m,\u001b[39m2\u001b[39m,\u001b[39m3\u001b[39m,\u001b[39m4\u001b[39m \n\u001b[0;32m----> <a href='vscode-notebook-cell:/Users/bikashacharya/Desktop/Python%20Basics/Compound%20Data%20Structure.ipynb#X11sZmlsZQ%3D%3D?line=1'>2</a>\u001b[0m t[\u001b[39m1\u001b[39;49m]\u001b[39m=\u001b[39m\u001b[39m5\u001b[39m \n\u001b[1;32m      <a href='vscode-notebook-cell:/Users/bikashacharya/Desktop/Python%20Basics/Compound%20Data%20Structure.ipynb#X11sZmlsZQ%3D%3D?line=2'>3</a>\u001b[0m \u001b[39mprint\u001b[39m(t)\n",
      "\u001b[0;31mTypeError\u001b[0m: 'tuple' object does not support item assignment"
     ]
    }
   ],
   "source": [
    "t=1,2,3,4 \n",
    "t[1]=5 #tuples are immutable \n",
    "print(t)"
   ]
  },
  {
   "cell_type": "code",
   "execution_count": 7,
   "metadata": {},
   "outputs": [
    {
     "name": "stdout",
     "output_type": "stream",
     "text": [
      "[1, 5, 3, 4]\n"
     ]
    }
   ],
   "source": [
    "t=[1,2,3,4] \n",
    "t[1]=5 #lists are mutable \n",
    "print(t)"
   ]
  },
  {
   "cell_type": "code",
   "execution_count": 10,
   "metadata": {},
   "outputs": [
    {
     "name": "stdout",
     "output_type": "stream",
     "text": [
      "(1, 2)\n"
     ]
    }
   ],
   "source": [
    "x=0.5\n",
    "print(x.as_integer_ratio())"
   ]
  },
  {
   "cell_type": "code",
   "execution_count": 12,
   "metadata": {},
   "outputs": [
    {
     "name": "stdout",
     "output_type": "stream",
     "text": [
      "<class 'tuple'>\n"
     ]
    }
   ],
   "source": [
    "x=0.5\n",
    "t=x.as_integer_ratio()\n",
    "print(type(t))"
   ]
  },
  {
   "cell_type": "code",
   "execution_count": 17,
   "metadata": {},
   "outputs": [
    {
     "name": "stdout",
     "output_type": "stream",
     "text": [
      "<class 'dict_keys'>\n"
     ]
    }
   ],
   "source": [
    "#Dictionaries {}\n",
    "#mutable data structures , mappings of keys and values \n",
    "#unordered data structure\n",
    "#efficient data structure\n",
    "n={'one':1,'two':2}\n",
    "print(type(n.keys()))\n"
   ]
  },
  {
   "cell_type": "code",
   "execution_count": 19,
   "metadata": {},
   "outputs": [
    {
     "name": "stdout",
     "output_type": "stream",
     "text": [
      "<class 'dict_keys'>\n",
      "dict_keys(['one', 'two', 'three'])\n"
     ]
    }
   ],
   "source": [
    "n={'one':1,'two':2}\n",
    "print(type(n.keys()))\n",
    "n['three']=3\n",
    "print((n.keys()))"
   ]
  },
  {
   "cell_type": "code",
   "execution_count": 21,
   "metadata": {},
   "outputs": [
    {
     "name": "stdout",
     "output_type": "stream",
     "text": [
      "{'name': 'John', 'age': 36, 'country': 'Norway'}\n"
     ]
    }
   ],
   "source": [
    "thisdict = dict(name = \"John\", age = 36, country = \"Norway\")\n",
    "print(thisdict)"
   ]
  },
  {
   "cell_type": "code",
   "execution_count": 24,
   "metadata": {},
   "outputs": [
    {
     "name": "stdout",
     "output_type": "stream",
     "text": [
      "{2, 3, 4, 5}\n",
      "{1, 2, 3, 4, 5}\n",
      "{1}\n"
     ]
    }
   ],
   "source": [
    "#SETS\n",
    "'''A set is a collection which is unordered, unchangeable*, and unindexed.'''\n",
    "#union.intersection.difference.symmetric difference\n",
    "a={1,2,3,4,5}\n",
    "b={2,3,4,5}\n",
    "print(a.intersection(b))\n",
    "print(a.union(b))\n",
    "print(a.difference(b))\n"
   ]
  }
 ],
 "metadata": {
  "kernelspec": {
   "display_name": "Python 3",
   "language": "python",
   "name": "python3"
  },
  "language_info": {
   "codemirror_mode": {
    "name": "ipython",
    "version": 3
   },
   "file_extension": ".py",
   "mimetype": "text/x-python",
   "name": "python",
   "nbconvert_exporter": "python",
   "pygments_lexer": "ipython3",
   "version": "3.10.5"
  },
  "orig_nbformat": 4
 },
 "nbformat": 4,
 "nbformat_minor": 2
}
