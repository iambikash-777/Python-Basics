{
 "cells": [
  {
   "cell_type": "code",
   "execution_count": null,
   "metadata": {},
   "outputs": [],
   "source": [
    "# file_object=open(\"filemode\",\"mode\")\n",
    "# r: open an existing file for a read operation.\n",
    "# w: open an existing file for a write operation. If the file already contains some data \n",
    "#     then it will be overridden but if the file is not present then it creates the file as well.\n",
    "# a:  open an existing file for append operation. It won’t override existing data.\n",
    "# r+:  To read and write data into the file. The previous data in the file will be overridden.\n",
    "# w+: To write and read data. It will override existing data.\n",
    "# a+: To append and read data from the file. It won’t override existing data.b"
   ]
  },
  {
   "cell_type": "code",
   "execution_count": 2,
   "metadata": {},
   "outputs": [],
   "source": [
    "file=open(\"Sample1.txt\",\"w\")\n",
    "file.write(\"Hi\\n\")\n",
    "file.write(\"This is ok\\n\")\n",
    "file.write(\"Ok! This is \\t cool\")\n",
    "file.close()"
   ]
  }
 ],
 "metadata": {
  "kernelspec": {
   "display_name": "Python 3",
   "language": "python",
   "name": "python3"
  },
  "language_info": {
   "codemirror_mode": {
    "name": "ipython",
    "version": 3
   },
   "file_extension": ".py",
   "mimetype": "text/x-python",
   "name": "python",
   "nbconvert_exporter": "python",
   "pygments_lexer": "ipython3",
   "version": "3.10.5"
  },
  "orig_nbformat": 4
 },
 "nbformat": 4,
 "nbformat_minor": 2
}
