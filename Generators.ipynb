{
 "cells": [
  {
   "cell_type": "code",
   "execution_count": 16,
   "metadata": {},
   "outputs": [
    {
     "name": "stdout",
     "output_type": "stream",
     "text": [
      "0\n",
      "1\n",
      "2 3 4 5 6 7 8 9 10 11\n"
     ]
    }
   ],
   "source": [
    "'''A generator function in Python is defined like a normal function, \n",
    "but whenever it needs to generate a value,\n",
    " it does so with the yield keyword rather than return. If the body of a def contains yield, \n",
    " the function automatically becomes a Python generator function. '''\n",
    "\n",
    " #GENERATOR Expression not Tuple Comprehension : Elements are generated as needed/ Lazy Computation\n",
    "\n",
    "A1=(n for n in range(12))\n",
    "# def gen():\n",
    "#     for n in range(12):\n",
    "#         yield n**2\n",
    "# A2=gen()\n",
    "print(next(A1))\n",
    "print(next(A1))\n",
    "print(*A1)\n"
   ]
  },
  {
   "cell_type": "code",
   "execution_count": 24,
   "metadata": {},
   "outputs": [
    {
     "name": "stdout",
     "output_type": "stream",
     "text": [
      "[1, 2, 3, 4, 2, 5]\n",
      "[1, 2, 2, 3, 4, 5]\n"
     ]
    }
   ],
   "source": []
  }
 ],
 "metadata": {
  "kernelspec": {
   "display_name": "Python 3",
   "language": "python",
   "name": "python3"
  },
  "language_info": {
   "codemirror_mode": {
    "name": "ipython",
    "version": 3
   },
   "file_extension": ".py",
   "mimetype": "text/x-python",
   "name": "python",
   "nbconvert_exporter": "python",
   "pygments_lexer": "ipython3",
   "version": "3.10.5"
  },
  "orig_nbformat": 4
 },
 "nbformat": 4,
 "nbformat_minor": 2
}
