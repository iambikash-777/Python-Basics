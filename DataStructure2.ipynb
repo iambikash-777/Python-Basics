{
 "cells": [
  {
   "cell_type": "code",
   "execution_count": null,
   "metadata": {},
   "outputs": [],
   "source": [
    "#Collections\n",
    "# Counters\n",
    "# OrderedDict\n",
    "# DefaultDict\n",
    "# ChainMap\n",
    "# NamedTuple\n",
    "# DeQue\n",
    "# UserDict\n",
    "# UserList\n",
    "# UserString\n"
   ]
  },
  {
   "cell_type": "code",
   "execution_count": 1,
   "metadata": {},
   "outputs": [
    {
     "name": "stdout",
     "output_type": "stream",
     "text": [
      "Counter({1: 1, 2: 1, 3: 1, 4: 1})\n"
     ]
    }
   ],
   "source": [
    "#Counter\n",
    "from collections import Counter\n",
    "a={1,1,1,2,3,4}\n",
    "print(Counter(a))"
   ]
  },
  {
   "cell_type": "code",
   "execution_count": 4,
   "metadata": {},
   "outputs": [
    {
     "name": "stdout",
     "output_type": "stream",
     "text": [
      "ValuesView(ChainMap({'a': 1, 'b': 2}, {'e': 5, 'f': 6}, {'c': 3, 'd': 4}))\n"
     ]
    }
   ],
   "source": [
    "#ChainMap\n",
    "from collections import ChainMap\n",
    "d1 = {'a': 1, 'b': 2}\n",
    "d2 = {'c': 3, 'd': 4}\n",
    "d3 = {'e': 5, 'f': 6}\n",
    "d4=ChainMap(d1,d3,d2)\n",
    "print(d4.values())"
   ]
  }
 ],
 "metadata": {
  "kernelspec": {
   "display_name": "Python 3",
   "language": "python",
   "name": "python3"
  },
  "language_info": {
   "codemirror_mode": {
    "name": "ipython",
    "version": 3
   },
   "file_extension": ".py",
   "mimetype": "text/x-python",
   "name": "python",
   "nbconvert_exporter": "python",
   "pygments_lexer": "ipython3",
   "version": "3.10.5"
  },
  "orig_nbformat": 4
 },
 "nbformat": 4,
 "nbformat_minor": 2
}
